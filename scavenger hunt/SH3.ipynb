{
  "cells": [
    {
      "metadata": {
        "_uuid": "8f2839f25d086af736a60e9eeb907d3b93b6e0e5",
        "_cell_guid": "b1076dfc-b9ad-4769-8c92-a6c4dae69d19",
        "trusted": false
      },
      "cell_type": "markdown",
      "source": "**Scavenger Hunt Day 3**"
    },
    {
      "metadata": {
        "collapsed": true,
        "_uuid": "d629ff2d2480ee46fbb7e2d37f6b5fab8052498a",
        "_cell_guid": "79c7e3d0-c299-4dcb-8224-4455121ee9b0",
        "trusted": true
      },
      "cell_type": "code",
      "source": "import bq_helper\n\naccidents = bq_helper.BigQueryHelper(active_project='bigquery-public-data',\n                                    dataset_name='nhtsa_traffic_fatalities')",
      "execution_count": 1,
      "outputs": []
    },
    {
      "metadata": {
        "trusted": true,
        "collapsed": true,
        "_uuid": "795b3e4ed7792d8c67ce141b27a9795ecef673e2"
      },
      "cell_type": "code",
      "source": "query = \"\"\"SELECT COUNT(consecutive_number),\n                  EXTRACT(DAYOFWEEK FROM timestamp_of_crash)\n            FROM `bigquery-public-data.nhtsa_traffic_fatalities.accident_2015`\n            GROUP BY EXTRACT(DAYOFWEEK FROM timestamp_of_crash)\n            ORDER BY COUNT(consecutive_number) DESC\n\"\"\"\naccidents_by_day = accidents.query_to_pandas_safe(query)",
      "execution_count": 2,
      "outputs": []
    },
    {
      "metadata": {
        "trusted": true,
        "_uuid": "7ab46767c5ead6921790a96e94bcda7a732b6962"
      },
      "cell_type": "code",
      "source": "import matplotlib.pyplot as plt\nplt.plot(accidents_by_day.f0_)\nplt.title(\"Number of Accidents by Rank of Day \\n(Most to least dangerous)\")",
      "execution_count": 3,
      "outputs": [
        {
          "output_type": "execute_result",
          "execution_count": 3,
          "data": {
            "text/plain": "Text(0.5,1,'Number of Accidents by Rank of Day \\n(Most to least dangerous)')"
          },
          "metadata": {}
        },
        {
          "output_type": "display_data",
          "data": {
            "text/plain": "<matplotlib.figure.Figure at 0x7f3268fa6320>",
            "image/png": "[encoded data removed]"
          },
          "metadata": {}
        }
      ]
    },
    {
      "metadata": {
        "trusted": true,
        "_uuid": "f1975c1e35e59f3ebe7feb71eaf12c55248f6db9"
      },
      "cell_type": "code",
      "source": "print(accidents_by_day)",
      "execution_count": 4,
      "outputs": [
        {
          "output_type": "stream",
          "text": "    f0_  f1_\n0  5659    7\n1  5298    1\n2  4917    6\n3  4461    5\n4  4181    4\n5  4038    2\n6  3985    3\n",
          "name": "stdout"
        }
      ]
    },
    {
      "metadata": {
        "_uuid": "1dcdc47182d3c53db57c758a20d6d5e54d142f6a"
      },
      "cell_type": "markdown",
      "source": "**Scavenger Hunt Day 3 Tasks**"
    },
    {
      "metadata": {
        "trusted": true,
        "collapsed": true,
        "_uuid": "eb88eda1014dcef9f48f7f3dd0574970dd6c88de"
      },
      "cell_type": "code",
      "source": "query = \"\"\"\n\"\"\"",
      "execution_count": null,
      "outputs": []
    }
  ],
  "metadata": {
    "language_info": {
      "name": "python",
      "version": "3.6.4",
      "mimetype": "text/x-python",
      "codemirror_mode": {
        "name": "ipython",
        "version": 3
      },
      "pygments_lexer": "ipython3",
      "nbconvert_exporter": "python",
      "file_extension": ".py"
    },
    "kernelspec": {
      "display_name": "Python 3",
      "language": "python",
      "name": "python3"
    }
  },
  "nbformat": 4,
  "nbformat_minor": 1
}