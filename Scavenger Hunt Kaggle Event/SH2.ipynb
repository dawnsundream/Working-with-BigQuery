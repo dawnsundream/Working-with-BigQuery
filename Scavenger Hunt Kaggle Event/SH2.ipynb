{
  "cells": [
    {
      "metadata": {
        "_uuid": "ad14c443a015b3d14a54730efab6e5cbcd053c3a"
      },
      "cell_type": "markdown",
      "source": "**Scaveger Hunt Day 2**"
    },
    {
      "metadata": {
        "_cell_guid": "8478ec29-3328-4324-96f4-ad29dfadd733",
        "_uuid": "b4232c09ef9c51edf31a8187e6ec0789b2fd2e23",
        "trusted": true
      },
      "cell_type": "code",
      "source": "import bq_helper\nhacker_news = bq_helper.BigQueryHelper(active_project=\"bigquery-public-data\", dataset_name=\"hacker_news\")\nhacker_news.head(\"comments\")",
      "execution_count": 1,
      "outputs": [
        {
          "output_type": "execute_result",
          "execution_count": 1,
          "data": {
            "text/plain": "         id  by author        time                   time_ts  \\\n0   2701393  5l     5l  1309184881 2011-06-27 14:28:01+00:00   \n1   5811403  99     99  1370234048 2013-06-03 04:34:08+00:00   \n2     21623  AF     AF  1178992400 2007-05-12 17:53:20+00:00   \n3  10159727  EA     EA  1441206574 2015-09-02 15:09:34+00:00   \n4   2988424  Iv     Iv  1315853580 2011-09-12 18:53:00+00:00   \n\n                                                text    parent deleted  dead  \\\n0  And the glazier who fixed all the broken windo...   2701243    None  None   \n1  Does canada have the equivalent of H1B/Green c...   5804452    None  None   \n2  Speaking of Rails, there are other options in ...     21611    None  None   \n3  Humans and large livestock (and maybe even pet...  10159396    None  None   \n4  I must say I reacted in the same way when I re...   2988179    None  None   \n\n   ranking  \n0        0  \n1        0  \n2        0  \n3        0  \n4        0  ",
            "text/html": "<div>\n<style>\n    .dataframe thead tr:only-child th {\n        text-align: right;\n    }\n\n    .dataframe thead th {\n        text-align: left;\n    }\n\n    .dataframe tbody tr th {\n        vertical-align: top;\n    }\n</style>\n<table border=\"1\" class=\"dataframe\">\n  <thead>\n    <tr style=\"text-align: right;\">\n      <th></th>\n      <th>id</th>\n      <th>by</th>\n      <th>author</th>\n      <th>time</th>\n      <th>time_ts</th>\n      <th>text</th>\n      <th>parent</th>\n      <th>deleted</th>\n      <th>dead</th>\n      <th>ranking</th>\n    </tr>\n  </thead>\n  <tbody>\n    <tr>\n      <th>0</th>\n      <td>2701393</td>\n      <td>5l</td>\n      <td>5l</td>\n      <td>1309184881</td>\n      <td>2011-06-27 14:28:01+00:00</td>\n      <td>And the glazier who fixed all the broken windo...</td>\n      <td>2701243</td>\n      <td>None</td>\n      <td>None</td>\n      <td>0</td>\n    </tr>\n    <tr>\n      <th>1</th>\n      <td>5811403</td>\n      <td>99</td>\n      <td>99</td>\n      <td>1370234048</td>\n      <td>2013-06-03 04:34:08+00:00</td>\n      <td>Does canada have the equivalent of H1B/Green c...</td>\n      <td>5804452</td>\n      <td>None</td>\n      <td>None</td>\n      <td>0</td>\n    </tr>\n    <tr>\n      <th>2</th>\n      <td>21623</td>\n      <td>AF</td>\n      <td>AF</td>\n      <td>1178992400</td>\n      <td>2007-05-12 17:53:20+00:00</td>\n      <td>Speaking of Rails, there are other options in ...</td>\n      <td>21611</td>\n      <td>None</td>\n      <td>None</td>\n      <td>0</td>\n    </tr>\n    <tr>\n      <th>3</th>\n      <td>10159727</td>\n      <td>EA</td>\n      <td>EA</td>\n      <td>1441206574</td>\n      <td>2015-09-02 15:09:34+00:00</td>\n      <td>Humans and large livestock (and maybe even pet...</td>\n      <td>10159396</td>\n      <td>None</td>\n      <td>None</td>\n      <td>0</td>\n    </tr>\n    <tr>\n      <th>4</th>\n      <td>2988424</td>\n      <td>Iv</td>\n      <td>Iv</td>\n      <td>1315853580</td>\n      <td>2011-09-12 18:53:00+00:00</td>\n      <td>I must say I reacted in the same way when I re...</td>\n      <td>2988179</td>\n      <td>None</td>\n      <td>None</td>\n      <td>0</td>\n    </tr>\n  </tbody>\n</table>\n</div>"
          },
          "metadata": {}
        }
      ]
    },
    {
      "metadata": {
        "collapsed": true,
        "_cell_guid": "40bba356-1ec0-4c4d-8d0a-2d3bd461b6a6",
        "_uuid": "97149eebf6373fcb55f30df6e847f45eb7bc023f",
        "trusted": true
      },
      "cell_type": "code",
      "source": "query = \"\"\"SELECT parent,count(ID)\n            FROM `bigquery-public-data.hacker_news.comments`\n            GROUP BY parent\n            HAVING COUNT(id) > 10\n\"\"\"",
      "execution_count": 2,
      "outputs": []
    },
    {
      "metadata": {
        "collapsed": true,
        "_cell_guid": "32aef186-4835-4555-904c-7e7d14b118e0",
        "_uuid": "43ff44c4c5fdde9439a902c682cdbd7a63747bdc",
        "trusted": true
      },
      "cell_type": "code",
      "source": "popular_stories = hacker_news.query_to_pandas_safe(query)",
      "execution_count": 3,
      "outputs": []
    },
    {
      "metadata": {
        "_cell_guid": "47359b43-0da5-4607-ac41-54ac78f20795",
        "_uuid": "dc6f3bc395d4781694f426aafbe483b0cf94b835",
        "trusted": true
      },
      "cell_type": "code",
      "source": "popular_stories.head()",
      "execution_count": 4,
      "outputs": [
        {
          "output_type": "execute_result",
          "execution_count": 4,
          "data": {
            "text/plain": "    parent  f0_\n0  5371725  258\n1  7833250  259\n2  3652041  260\n3  2403696  261\n4  6889613   11",
            "text/html": "<div>\n<style>\n    .dataframe thead tr:only-child th {\n        text-align: right;\n    }\n\n    .dataframe thead th {\n        text-align: left;\n    }\n\n    .dataframe tbody tr th {\n        vertical-align: top;\n    }\n</style>\n<table border=\"1\" class=\"dataframe\">\n  <thead>\n    <tr style=\"text-align: right;\">\n      <th></th>\n      <th>parent</th>\n      <th>f0_</th>\n    </tr>\n  </thead>\n  <tbody>\n    <tr>\n      <th>0</th>\n      <td>5371725</td>\n      <td>258</td>\n    </tr>\n    <tr>\n      <th>1</th>\n      <td>7833250</td>\n      <td>259</td>\n    </tr>\n    <tr>\n      <th>2</th>\n      <td>3652041</td>\n      <td>260</td>\n    </tr>\n    <tr>\n      <th>3</th>\n      <td>2403696</td>\n      <td>261</td>\n    </tr>\n    <tr>\n      <th>4</th>\n      <td>6889613</td>\n      <td>11</td>\n    </tr>\n  </tbody>\n</table>\n</div>"
          },
          "metadata": {}
        }
      ]
    },
    {
      "metadata": {
        "_uuid": "31e031bdf520ba0eed61863215713b7bd10660c4"
      },
      "cell_type": "markdown",
      "source": "**SCAVENGER HUNT DAY 2 TASKS**"
    },
    {
      "metadata": {
        "_cell_guid": "10d59c07-b517-4b6e-bff9-fe6a84b970da",
        "_uuid": "85d27760995b290d832a23909086038617601eee",
        "trusted": true
      },
      "cell_type": "code",
      "source": "#How many stories are there of each type in the full table?\nquery = \"\"\"SELECT type, count(id)\n            FROM `bigquery-public-data.hacker_news.full`\n            GROUP BY type\n\"\"\"\ntype_count = hacker_news.query_to_pandas_safe(query)\ntype_count.head()",
      "execution_count": 5,
      "outputs": [
        {
          "output_type": "execute_result",
          "execution_count": 5,
          "data": {
            "text/plain": "      type       f0_\n0  comment  13540358\n1    story   2853396\n2  pollopt     11826\n3      job     10197\n4     poll      1729",
            "text/html": "<div>\n<style>\n    .dataframe thead tr:only-child th {\n        text-align: right;\n    }\n\n    .dataframe thead th {\n        text-align: left;\n    }\n\n    .dataframe tbody tr th {\n        vertical-align: top;\n    }\n</style>\n<table border=\"1\" class=\"dataframe\">\n  <thead>\n    <tr style=\"text-align: right;\">\n      <th></th>\n      <th>type</th>\n      <th>f0_</th>\n    </tr>\n  </thead>\n  <tbody>\n    <tr>\n      <th>0</th>\n      <td>comment</td>\n      <td>13540358</td>\n    </tr>\n    <tr>\n      <th>1</th>\n      <td>story</td>\n      <td>2853396</td>\n    </tr>\n    <tr>\n      <th>2</th>\n      <td>pollopt</td>\n      <td>11826</td>\n    </tr>\n    <tr>\n      <th>3</th>\n      <td>job</td>\n      <td>10197</td>\n    </tr>\n    <tr>\n      <th>4</th>\n      <td>poll</td>\n      <td>1729</td>\n    </tr>\n  </tbody>\n</table>\n</div>"
          },
          "metadata": {}
        }
      ]
    },
    {
      "metadata": {
        "trusted": true,
        "_uuid": "6ce4610b9efd35f6dc7250cc1a8f711872b6c9b2"
      },
      "cell_type": "code",
      "source": "#How many comments have been deleted?\nquery = \"\"\"SELECT deleted, count(ID)\n            FROM `bigquery-public-data.hacker_news.comments`\n            GROUP BY deleted\n            HAVING deleted = TRUE\n            \"\"\"\ndeleted_comments_count = hacker_news.query_to_pandas_safe(query)\ndeleted_comments_count.head()",
      "execution_count": 7,
      "outputs": [
        {
          "output_type": "execute_result",
          "execution_count": 7,
          "data": {
            "text/plain": "   deleted     f0_\n0     True  227736",
            "text/html": "<div>\n<style>\n    .dataframe thead tr:only-child th {\n        text-align: right;\n    }\n\n    .dataframe thead th {\n        text-align: left;\n    }\n\n    .dataframe tbody tr th {\n        vertical-align: top;\n    }\n</style>\n<table border=\"1\" class=\"dataframe\">\n  <thead>\n    <tr style=\"text-align: right;\">\n      <th></th>\n      <th>deleted</th>\n      <th>f0_</th>\n    </tr>\n  </thead>\n  <tbody>\n    <tr>\n      <th>0</th>\n      <td>True</td>\n      <td>227736</td>\n    </tr>\n  </tbody>\n</table>\n</div>"
          },
          "metadata": {}
        }
      ]
    },
    {
      "metadata": {
        "trusted": true,
        "collapsed": true,
        "_uuid": "6391b178f8614feac166fda4611f9c0f9a4efdd3"
      },
      "cell_type": "code",
      "source": "",
      "execution_count": null,
      "outputs": []
    }
  ],
  "metadata": {
    "language_info": {
      "name": "python",
      "version": "3.6.4",
      "mimetype": "text/x-python",
      "codemirror_mode": {
        "name": "ipython",
        "version": 3
      },
      "pygments_lexer": "ipython3",
      "nbconvert_exporter": "python",
      "file_extension": ".py"
    },
    "kernelspec": {
      "display_name": "Python 3",
      "language": "python",
      "name": "python3"
    }
  },
  "nbformat": 4,
  "nbformat_minor": 1
}