{
  "cells": [
    {
      "metadata": {
        "_uuid": "9ddbf2f74d01cbaeedf0871b0daa93bd09250846"
      },
      "cell_type": "markdown",
      "source": "**Scavenger Hunt Day 5**"
    },
    {
      "metadata": {
        "_cell_guid": "b1076dfc-b9ad-4769-8c92-a6c4dae69d19",
        "_uuid": "8f2839f25d086af736a60e9eeb907d3b93b6e0e5",
        "trusted": true
      },
      "cell_type": "code",
      "source": "import bq_helper\ngithub = bq_helper.BigQueryHelper(active_project=\"bigquery-public-data\",\n                                 dataset_name=\"github_repos\")",
      "execution_count": 2,
      "outputs": []
    },
    {
      "metadata": {
        "collapsed": true,
        "_cell_guid": "79c7e3d0-c299-4dcb-8224-4455121ee9b0",
        "_uuid": "d629ff2d2480ee46fbb7e2d37f6b5fab8052498a",
        "trusted": true
      },
      "cell_type": "code",
      "source": "query = \"\"\"\n        SELECT L.license, COUNT(sf.path) AS number_of_files\n        FROM `bigquery-public-data.github_repos.sample_files` as sf\n        INNER JOIN `bigquery-public-data.github_repos.licenses` as L\n            ON sf.repo_name = L.repo_name\n        GROUP BY L.license\n        ORDER BY number_of_files DESC\n\"\"\"\n\nfile_count_by_license = github.query_to_pandas_safe(query, max_gb_scanned=6)",
      "execution_count": 3,
      "outputs": []
    },
    {
      "metadata": {
        "trusted": true,
        "_uuid": "980ed0bce317701f68d0ae0e4b4c38e162e9c66f"
      },
      "cell_type": "code",
      "source": "print(file_count_by_license)",
      "execution_count": 4,
      "outputs": [
        {
          "output_type": "stream",
          "text": "         license  number_of_files\n0        gpl-2.0         22031724\n1            mit         21186498\n2     apache-2.0          7578582\n3        gpl-3.0          5550163\n4   bsd-3-clause          3319394\n5       agpl-3.0          1435105\n6       lgpl-2.1           962034\n7   bsd-2-clause           779810\n8       lgpl-3.0           684163\n9        mpl-2.0           504080\n10       cc0-1.0           437764\n11       epl-1.0           389338\n12     unlicense           209350\n13  artistic-2.0           155854\n14           isc           133570\n",
          "name": "stdout"
        }
      ]
    },
    {
      "metadata": {
        "_uuid": "184acab144851c505324c429612d1b561b60b460"
      },
      "cell_type": "markdown",
      "source": "**Scavenger Hunt Tasks**"
    },
    {
      "metadata": {
        "trusted": true,
        "_uuid": "2ae241225ad5e065a4b77ccc341e0695c43167eb"
      },
      "cell_type": "code",
      "source": "github.list_tables()",
      "execution_count": 5,
      "outputs": [
        {
          "output_type": "execute_result",
          "execution_count": 5,
          "data": {
            "text/plain": "['commits',\n 'contents',\n 'files',\n 'languages',\n 'licenses',\n 'sample_commits',\n 'sample_contents',\n 'sample_files',\n 'sample_repos']"
          },
          "metadata": {}
        }
      ]
    },
    {
      "metadata": {
        "trusted": true,
        "_uuid": "05620e8a137efb53816b1a27ab5013d679fdb9b1"
      },
      "cell_type": "code",
      "source": "github.table_schema('sample_commits')",
      "execution_count": 6,
      "outputs": [
        {
          "output_type": "execute_result",
          "execution_count": 6,
          "data": {
            "text/plain": "[SchemaField('commit', 'string', 'NULLABLE', None, ()),\n SchemaField('tree', 'string', 'NULLABLE', None, ()),\n SchemaField('parent', 'string', 'REPEATED', None, ()),\n SchemaField('author', 'record', 'NULLABLE', None, (SchemaField('name', 'string', 'NULLABLE', None, ()), SchemaField('email', 'string', 'NULLABLE', None, ()), SchemaField('time_sec', 'integer', 'NULLABLE', None, ()), SchemaField('tz_offset', 'integer', 'NULLABLE', None, ()), SchemaField('date', 'timestamp', 'NULLABLE', None, ()))),\n SchemaField('committer', 'record', 'NULLABLE', None, (SchemaField('name', 'string', 'NULLABLE', None, ()), SchemaField('email', 'string', 'NULLABLE', None, ()), SchemaField('time_sec', 'integer', 'NULLABLE', None, ()), SchemaField('tz_offset', 'integer', 'NULLABLE', None, ()), SchemaField('date', 'timestamp', 'NULLABLE', None, ()))),\n SchemaField('subject', 'string', 'NULLABLE', None, ()),\n SchemaField('message', 'string', 'NULLABLE', None, ()),\n SchemaField('trailer', 'record', 'REPEATED', None, (SchemaField('key', 'string', 'NULLABLE', None, ()), SchemaField('value', 'string', 'NULLABLE', None, ()), SchemaField('email', 'string', 'NULLABLE', None, ()))),\n SchemaField('difference', 'record', 'REPEATED', None, (SchemaField('old_mode', 'integer', 'NULLABLE', None, ()), SchemaField('new_mode', 'integer', 'NULLABLE', None, ()), SchemaField('old_path', 'string', 'NULLABLE', None, ()), SchemaField('new_path', 'string', 'NULLABLE', None, ()), SchemaField('old_sha1', 'string', 'NULLABLE', None, ()), SchemaField('new_sha1', 'string', 'NULLABLE', None, ()), SchemaField('old_repo', 'string', 'NULLABLE', None, ()), SchemaField('new_repo', 'string', 'NULLABLE', None, ()))),\n SchemaField('difference_truncated', 'boolean', 'NULLABLE', None, ()),\n SchemaField('repo_name', 'string', 'NULLABLE', None, ()),\n SchemaField('encoding', 'string', 'NULLABLE', None, ())]"
          },
          "metadata": {}
        }
      ]
    },
    {
      "metadata": {
        "trusted": true,
        "_uuid": "3b9da4aac321e359b64fb3a0f6117744eb2301b4"
      },
      "cell_type": "code",
      "source": "github.table_schema('sample_files')",
      "execution_count": 8,
      "outputs": [
        {
          "output_type": "execute_result",
          "execution_count": 8,
          "data": {
            "text/plain": "[SchemaField('repo_name', 'string', 'NULLABLE', None, ()),\n SchemaField('ref', 'string', 'NULLABLE', None, ()),\n SchemaField('path', 'string', 'NULLABLE', None, ()),\n SchemaField('mode', 'integer', 'NULLABLE', None, ()),\n SchemaField('id', 'string', 'NULLABLE', None, ()),\n SchemaField('symlink_target', 'string', 'NULLABLE', None, ())]"
          },
          "metadata": {}
        }
      ]
    },
    {
      "metadata": {
        "trusted": true,
        "_uuid": "2333e21fb461e8fd078ac4026d7d5841a5523747"
      },
      "cell_type": "code",
      "source": "query = \"\"\"\n            SELECT sf.repo_name, COUNT(sc.commit)\n            FROM `bigquery-public-data.github_repos.sample_commits` as sc\n            INNER JOIN `bigquery-public-data.github_repos.sample_files` as sf\n            ON sc.repo_name = sf.repo_name\n            WHERE path LIKE '%.py'\n            GROUP BY repo_name\n\"\"\"\n\ngithub.estimate_query_size(query)",
      "execution_count": 10,
      "outputs": [
        {
          "output_type": "execute_result",
          "execution_count": 10,
          "data": {
            "text/plain": "5.271098022349179"
          },
          "metadata": {}
        }
      ]
    },
    {
      "metadata": {
        "trusted": true,
        "_uuid": "ae37bef3a8d080bd55acea93b03bf6b3a28f46f9"
      },
      "cell_type": "code",
      "source": "github.query_to_pandas_safe(query, max_gb_scanned=6)",
      "execution_count": 11,
      "outputs": [
        {
          "output_type": "execute_result",
          "execution_count": 11,
          "data": {
            "text/plain": "               repo_name       f0_\n0         facebook/react     13750\n1       Microsoft/vscode      6909\n2  tensorflow/tensorflow   4128858\n3            apple/swift   4044664\n4         torvalds/linux  23501556",
            "text/html": "<div>\n<style>\n    .dataframe thead tr:only-child th {\n        text-align: right;\n    }\n\n    .dataframe thead th {\n        text-align: left;\n    }\n\n    .dataframe tbody tr th {\n        vertical-align: top;\n    }\n</style>\n<table border=\"1\" class=\"dataframe\">\n  <thead>\n    <tr style=\"text-align: right;\">\n      <th></th>\n      <th>repo_name</th>\n      <th>f0_</th>\n    </tr>\n  </thead>\n  <tbody>\n    <tr>\n      <th>0</th>\n      <td>facebook/react</td>\n      <td>13750</td>\n    </tr>\n    <tr>\n      <th>1</th>\n      <td>Microsoft/vscode</td>\n      <td>6909</td>\n    </tr>\n    <tr>\n      <th>2</th>\n      <td>tensorflow/tensorflow</td>\n      <td>4128858</td>\n    </tr>\n    <tr>\n      <th>3</th>\n      <td>apple/swift</td>\n      <td>4044664</td>\n    </tr>\n    <tr>\n      <th>4</th>\n      <td>torvalds/linux</td>\n      <td>23501556</td>\n    </tr>\n  </tbody>\n</table>\n</div>"
          },
          "metadata": {}
        }
      ]
    },
    {
      "metadata": {
        "trusted": true,
        "collapsed": true,
        "_uuid": "a10ad7a7989659b75cb8571ad785165a2add4644"
      },
      "cell_type": "code",
      "source": "",
      "execution_count": null,
      "outputs": []
    }
  ],
  "metadata": {
    "language_info": {
      "name": "python",
      "version": "3.6.4",
      "mimetype": "text/x-python",
      "codemirror_mode": {
        "name": "ipython",
        "version": 3
      },
      "pygments_lexer": "ipython3",
      "nbconvert_exporter": "python",
      "file_extension": ".py"
    },
    "kernelspec": {
      "display_name": "Python 3",
      "language": "python",
      "name": "python3"
    }
  },
  "nbformat": 4,
  "nbformat_minor": 1
}