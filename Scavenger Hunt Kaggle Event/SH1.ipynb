{
  "cells": [
    {
      "metadata": {
        "_uuid": "1bbeee36b4081c090bbe7970e88dded03e93f736"
      },
      "cell_type": "markdown",
      "source": "**Scavenger Hunt Day 1 Introduction**"
    },
    {
      "metadata": {
        "_cell_guid": "6cefa805-ee88-4d35-95ac-65d43b82d5a7",
        "_uuid": "c05c0e4a43c89527d51870d42dc5faaa08798430",
        "trusted": true
      },
      "cell_type": "code",
      "source": "import pandas as pd\n# import package with helper functions \nimport bq_helper\n\n# create a helper object for this dataset\nopen_aq = bq_helper.BigQueryHelper(active_project=\"bigquery-public-data\",\n                                   dataset_name=\"openaq\")\n\n# print all the tables in this dataset (there's only one!)\nopen_aq.list_tables()",
      "execution_count": 1,
      "outputs": [
        {
          "output_type": "execute_result",
          "execution_count": 1,
          "data": {
            "text/plain": "['global_air_quality']"
          },
          "metadata": {}
        }
      ]
    },
    {
      "metadata": {
        "trusted": true,
        "scrolled": true,
        "_uuid": "bd57ec61c50aa3ccf94fadce7c2300a0d4d1bee5"
      },
      "cell_type": "code",
      "source": "#print the first couple rows of the table\nopen_aq.head('global_air_quality')",
      "execution_count": 2,
      "outputs": [
        {
          "output_type": "execute_result",
          "execution_count": 2,
          "data": {
            "text/plain": "             location city country pollutant  value                 timestamp  \\\n0     Mobile_Cle Elum  037      US      pm25   0.00 2017-09-26 20:00:00+00:00   \n1  Mobile_WhiteSalmon  039      US      pm25   0.00 2017-09-26 20:00:00+00:00   \n2      Mobile_Newport  051      US      pm25   0.00 2017-09-21 18:00:00+00:00   \n3             FR20047  Ain      FR      pm10  18.70 2018-02-13 07:00:00+00:00   \n4             FR20047  Ain      FR        o3   2.13 2018-02-13 07:00:00+00:00   \n\n    unit source_name   latitude   longitude  averaged_over_in_hours  \n0  µg/m³      AirNow  47.197630 -120.958230                     1.0  \n1  µg/m³      AirNow  45.732414 -121.492330                     1.0  \n2  µg/m³      AirNow  48.186485 -117.049160                     1.0  \n3  µg/m³  EEA France  45.823223    4.953958                     1.0  \n4  µg/m³  EEA France  45.823223    4.953958                     1.0  ",
            "text/html": "<div>\n<style>\n    .dataframe thead tr:only-child th {\n        text-align: right;\n    }\n\n    .dataframe thead th {\n        text-align: left;\n    }\n\n    .dataframe tbody tr th {\n        vertical-align: top;\n    }\n</style>\n<table border=\"1\" class=\"dataframe\">\n  <thead>\n    <tr style=\"text-align: right;\">\n      <th></th>\n      <th>location</th>\n      <th>city</th>\n      <th>country</th>\n      <th>pollutant</th>\n      <th>value</th>\n      <th>timestamp</th>\n      <th>unit</th>\n      <th>source_name</th>\n      <th>latitude</th>\n      <th>longitude</th>\n      <th>averaged_over_in_hours</th>\n    </tr>\n  </thead>\n  <tbody>\n    <tr>\n      <th>0</th>\n      <td>Mobile_Cle Elum</td>\n      <td>037</td>\n      <td>US</td>\n      <td>pm25</td>\n      <td>0.00</td>\n      <td>2017-09-26 20:00:00+00:00</td>\n      <td>µg/m³</td>\n      <td>AirNow</td>\n      <td>47.197630</td>\n      <td>-120.958230</td>\n      <td>1.0</td>\n    </tr>\n    <tr>\n      <th>1</th>\n      <td>Mobile_WhiteSalmon</td>\n      <td>039</td>\n      <td>US</td>\n      <td>pm25</td>\n      <td>0.00</td>\n      <td>2017-09-26 20:00:00+00:00</td>\n      <td>µg/m³</td>\n      <td>AirNow</td>\n      <td>45.732414</td>\n      <td>-121.492330</td>\n      <td>1.0</td>\n    </tr>\n    <tr>\n      <th>2</th>\n      <td>Mobile_Newport</td>\n      <td>051</td>\n      <td>US</td>\n      <td>pm25</td>\n      <td>0.00</td>\n      <td>2017-09-21 18:00:00+00:00</td>\n      <td>µg/m³</td>\n      <td>AirNow</td>\n      <td>48.186485</td>\n      <td>-117.049160</td>\n      <td>1.0</td>\n    </tr>\n    <tr>\n      <th>3</th>\n      <td>FR20047</td>\n      <td>Ain</td>\n      <td>FR</td>\n      <td>pm10</td>\n      <td>18.70</td>\n      <td>2018-02-13 07:00:00+00:00</td>\n      <td>µg/m³</td>\n      <td>EEA France</td>\n      <td>45.823223</td>\n      <td>4.953958</td>\n      <td>1.0</td>\n    </tr>\n    <tr>\n      <th>4</th>\n      <td>FR20047</td>\n      <td>Ain</td>\n      <td>FR</td>\n      <td>o3</td>\n      <td>2.13</td>\n      <td>2018-02-13 07:00:00+00:00</td>\n      <td>µg/m³</td>\n      <td>EEA France</td>\n      <td>45.823223</td>\n      <td>4.953958</td>\n      <td>1.0</td>\n    </tr>\n  </tbody>\n</table>\n</div>"
          },
          "metadata": {}
        }
      ]
    },
    {
      "metadata": {
        "trusted": true,
        "_uuid": "0ecdcda7b26fc18f74a7ea80315b230c3676b549"
      },
      "cell_type": "code",
      "source": "open_aq.table_schema('global_air_quality')",
      "execution_count": 18,
      "outputs": [
        {
          "output_type": "execute_result",
          "execution_count": 18,
          "data": {
            "text/plain": "[SchemaField('location', 'string', 'NULLABLE', 'Location where data was measured', ()),\n SchemaField('city', 'string', 'NULLABLE', 'City containing location', ()),\n SchemaField('country', 'string', 'NULLABLE', 'Country containing measurement in 2 letter ISO code', ()),\n SchemaField('pollutant', 'string', 'NULLABLE', 'Name of the Pollutant being measured. Allowed values: PM25, PM10, SO2, NO2, O3, CO, BC', ()),\n SchemaField('value', 'float', 'NULLABLE', 'Latest measured value for the pollutant', ()),\n SchemaField('timestamp', 'timestamp', 'NULLABLE', 'The datetime at which the pollutant was measured, in ISO 8601 format', ()),\n SchemaField('unit', 'string', 'NULLABLE', 'The unit the value was measured in coded by UCUM Code', ()),\n SchemaField('source_name', 'string', 'NULLABLE', 'Name of the source of the data', ()),\n SchemaField('latitude', 'float', 'NULLABLE', 'Latitude in decimal degrees. Precision >3 decimal points.', ()),\n SchemaField('longitude', 'float', 'NULLABLE', 'Longitude in decimal degrees. Precision >3 decimal points.', ()),\n SchemaField('averaged_over_in_hours', 'float', 'NULLABLE', 'The number of hours the value was averaged over.', ())]"
          },
          "metadata": {}
        }
      ]
    },
    {
      "metadata": {
        "trusted": true,
        "collapsed": true,
        "_uuid": "0bbfc6ef080284c736449d6c167dec0aee09085a"
      },
      "cell_type": "code",
      "source": "query = \"\"\"SELECT city\n            FROM `bigquery-public-data.openaq.global_air_quality`\n            WHERE country = 'US'\n        \"\"\"",
      "execution_count": 3,
      "outputs": []
    },
    {
      "metadata": {
        "trusted": true,
        "collapsed": true,
        "_uuid": "3b7ba7059fe243b8780cc422044bde97c0fd26f8"
      },
      "cell_type": "code",
      "source": "#the query_to_pandas_safe will only return a result if it's less\n#than one gigabyte\nus_cities = open_aq.query_to_pandas_safe(query)",
      "execution_count": 4,
      "outputs": []
    },
    {
      "metadata": {
        "trusted": true,
        "_uuid": "132bd3977215e2a1e04634495e9552b85cc66eb8"
      },
      "cell_type": "code",
      "source": "#cities with most measurements\nus_cities.city.value_counts().head()",
      "execution_count": 5,
      "outputs": [
        {
          "output_type": "execute_result",
          "execution_count": 5,
          "data": {
            "text/plain": "Phoenix-Mesa-Scottsdale                     85\nHouston                                     79\nLos Angeles-Long Beach-Santa Ana            60\nNew York-Northern New Jersey-Long Island    57\nRiverside-San Bernardino-Ontario            56\nName: city, dtype: int64"
          },
          "metadata": {}
        }
      ]
    },
    {
      "metadata": {
        "_uuid": "726362bc89aebfadf0796dbd28d1eba7e854cd71"
      },
      "cell_type": "markdown",
      "source": "**Scavenger Hunt Day 1 Tasks**\n* Which countries use a unit other than ppm to measure any type of pollution? \n* Which pollutants have a value of exactly 0?"
    },
    {
      "metadata": {
        "trusted": true,
        "_uuid": "c24f1d470a94f70d6a48b9c0c2ffb5c509478b61"
      },
      "cell_type": "code",
      "source": "#countries with unit other than ppm\nquery = \"\"\"SELECT country\n            FROM `bigquery-public-data.openaq.global_air_quality`\n            WHERE unit != 'ppm'\n            \"\"\"\nno_ppm_countries = open_aq.query_to_pandas_safe(query)",
      "execution_count": 9,
      "outputs": []
    },
    {
      "metadata": {
        "trusted": true,
        "_uuid": "95e3a9d158d09fcdaebf5e57812759f2f843cc3a"
      },
      "cell_type": "code",
      "source": "no_ppm_countries['country'].value_counts()",
      "execution_count": 12,
      "outputs": [
        {
          "output_type": "execute_result",
          "execution_count": 12,
          "data": {
            "text/plain": "FR    2638\nES    1876\nDE    1382\nUS    1266\nAT     784\nCZ     600\nTR     486\nCL     406\nGB     403\nCN     384\nBE     372\nIT     320\nNL     278\nIN     230\nPT     199\nBR     188\nTW     154\nNO     154\nAU     142\nSK     132\nMN     125\nRU     124\nHU     108\nFI     106\nCH      97\nHK      89\nCA      88\nMK      70\nMX      70\nBA      69\n      ... \nPE      45\nDK      26\nLU      26\nIE      24\nSE      24\nGH      22\nMT      18\nLV      13\nSI       8\nRS       8\nAD       7\nGI       6\nAR       4\nVN       3\nID       3\nBD       2\nZA       2\nET       2\nNP       2\nSG       1\nIL       1\nNG       1\nKW       1\nCO       1\nXK       1\nAE       1\nPH       1\nLK       1\nUG       1\nBH       1\nName: country, Length: 64, dtype: int64"
          },
          "metadata": {}
        }
      ]
    },
    {
      "metadata": {
        "trusted": true,
        "_uuid": "af08df8518d05a238fecb2e70c273f75216669d9"
      },
      "cell_type": "code",
      "source": "no_ppm_countries['country'].unique()",
      "execution_count": 13,
      "outputs": [
        {
          "output_type": "execute_result",
          "execution_count": 13,
          "data": {
            "text/plain": "array(['AD', 'AE', 'AR', 'AT', 'AU', 'BA', 'BD', 'BE', 'BH', 'BR', 'CA',\n       'CH', 'CL', 'CN', 'CO', 'CZ', 'DE', 'DK', 'ES', 'ET', 'FI', 'FR',\n       'GB', 'GH', 'GI', 'HK', 'HR', 'HU', 'ID', 'IE', 'IL', 'IN', 'IT',\n       'KW', 'LK', 'LT', 'LU', 'LV', 'MK', 'MN', 'MT', 'MX', 'NG', 'NL',\n       'NO', 'NP', 'PE', 'PH', 'PL', 'PT', 'RS', 'RU', 'SE', 'SG', 'SI',\n       'SK', 'TH', 'TR', 'TW', 'UG', 'US', 'VN', 'XK', 'ZA'], dtype=object)"
          },
          "metadata": {}
        }
      ]
    },
    {
      "metadata": {
        "trusted": true,
        "_uuid": "0bc8616008edc1990ee508ad29789948c8dab63a"
      },
      "cell_type": "code",
      "source": "#pollutant is zero\nquery = \"\"\"SELECT pollutant\n            FROM `bigquery-public-data.openaq.global_air_quality`\n            WHERE value = 0\n\"\"\"\nnon_pollutants = open_aq.query_to_pandas_safe(query)\nnon_pollutants['pollutant'].value_counts()",
      "execution_count": 20,
      "outputs": [
        {
          "output_type": "execute_result",
          "execution_count": 20,
          "data": {
            "text/plain": "so2     323\nno2     113\nco      107\no3       97\npm10     73\npm25     63\nbc        1\nName: pollutant, dtype: int64"
          },
          "metadata": {}
        }
      ]
    }
  ],
  "metadata": {
    "kernelspec": {
      "display_name": "Python 3",
      "language": "python",
      "name": "python3"
    },
    "language_info": {
      "name": "python",
      "version": "3.6.4",
      "mimetype": "text/x-python",
      "codemirror_mode": {
        "name": "ipython",
        "version": 3
      },
      "pygments_lexer": "ipython3",
      "nbconvert_exporter": "python",
      "file_extension": ".py"
    }
  },
  "nbformat": 4,
  "nbformat_minor": 1
}